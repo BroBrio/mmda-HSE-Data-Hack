{
 "cells": [
  {
   "cell_type": "code",
   "execution_count": null,
   "id": "20092ead",
   "metadata": {},
   "outputs": [],
   "source": [
    "import spacy\n",
    "import pandas as pd\n",
    "import spacy\n",
    "from sklearn.model_selection import train_test_split\n",
    "from collections import Counter\n",
    "from sklearn.svm import LinearSVC\n",
    "from sklearn.feature_extraction.text import CountVectorizer,TfidfVectorizer\n",
    "from sklearn.base import TransformerMixin\n",
    "from sklearn.pipeline import Pipeline\n",
    "from matplotlib import pyplot as plt"
   ]
  },
  {
   "cell_type": "code",
   "execution_count": null,
   "id": "4a4ffdc7",
   "metadata": {},
   "outputs": [],
   "source": [
    "def predict_sentiment(text):\n",
    "    loaded_model = spacy.load(\"model_artifacts\")\n",
    "    parsed_text = loaded_model(text)\n",
    "    return parsed_text.cats[\"+\"], parsed_text.cats[\"−\"], parsed_text.cats[\"?\"]"
   ]
  },
  {
   "cell_type": "code",
   "execution_count": null,
   "id": "b7c1fd0a",
   "metadata": {},
   "outputs": [],
   "source": [
    "train = pd.read_csv('train.csv').drop('Unnamed: 0', axis = 1)\n",
    "X = train[train['1category'] != '?'].drop(['2category', 'sentiment'], axis=1)\n",
    "X_train, X_test, y_train, y_test = train_test_split(X.sentence, X['1category'], test_size = 0.3, random_state = 69)\n",
    "nlp = spacy.load('ru_core_news_sm')\n",
    "\n",
    "def cleaner(sentence):\n",
    "    doc = nlp(sentence)\n",
    "    mytokens = [token for token in doc if (not token.is_stop and not token.like_num)]    \n",
    "    lemmas = [token.lemma_.lower() for token in mytokens]  \n",
    "    filtered_token = [token for token in lemmas if token not in (',','(',')','%','банк','карта', '\\xa0', '\\xa0 ', '-', '!', '?', '.', ':', '\"', '«', '»', '...', '/')]  \n",
    "    #print(1)\n",
    "    return filtered_token\n",
    "\n",
    "class predictors(TransformerMixin):\n",
    "    def transform(self, X, **transform_params):\n",
    "        return [text.strip().lower() for text in X]\n",
    "\n",
    "    def fit(self, X, y=None, **fit_params):\n",
    "        return self\n",
    "\n",
    "    def get_params(self, deep=True):\n",
    "        return {}\n",
    "    \n",
    "bow_vector = CountVectorizer(tokenizer = cleaner, ngram_range=(1,1))\n",
    "\n",
    "from sklearn.linear_model import LogisticRegression\n",
    "clf = LogisticRegression()\n",
    "\n",
    "pipe = Pipeline([(\"cleaner\", predictors()),\n",
    "                 ('vectorizer', bow_vector),\n",
    "                 ('classifier', clf)])\n",
    "\n",
    "pipe.fit(X_train,y_train)"
   ]
  },
  {
   "cell_type": "code",
   "execution_count": null,
   "id": "be507e05",
   "metadata": {},
   "outputs": [],
   "source": [
    "from sklearn import metrics\n",
    "# Predicting with a test dataset\n",
    "predicted = pipe.predict(X_test)\n",
    "\n",
    "print(metrics.classification_report(y_test, predicted))"
   ]
  },
  {
   "cell_type": "code",
   "execution_count": null,
   "id": "4c30137b",
   "metadata": {},
   "outputs": [],
   "source": [
    "f = open('train.csv', 'r', encoding='utf-8')\n",
    "\n",
    "texts = []\n",
    "i = 0\n",
    "for line in f:\n",
    "    line = line.replace('\\n', '')\n",
    "    i += 1\n",
    "    if i == 1:\n",
    "        continue\n",
    "    text = line.split(',')[1]\n",
    "    texts += [text]\n",
    "    if i == 10:\n",
    "        break\n",
    "        \n",
    "print(pipe.predict_proba(texts))"
   ]
  },
  {
   "cell_type": "code",
   "execution_count": null,
   "id": "ef00abd7",
   "metadata": {},
   "outputs": [],
   "source": [
    "f = open('train.csv', 'r', encoding='utf-8')\n",
    "\n",
    "ans = []\n",
    "texts = []\n",
    "\n",
    "i = 0\n",
    "for line in f:\n",
    "    line = line.replace('\\n', '')\n",
    "    i += 1\n",
    "    if i == 1:\n",
    "        ans += [line + ',+,-,?,Communication,Quality,Price,Safety']\n",
    "        continue\n",
    "    text = line.split(',')[1]\n",
    "    p_pos, p_neg, p_nei = predict_sentiment(text)\n",
    "    p_pos = p_pos/sum([p_pos, p_neg, p_nei])\n",
    "    p_neg = p_neg/sum([p_pos, p_neg, p_nei])\n",
    "    p_nei = p_nei/sum([p_pos, p_neg, p_nei])\n",
    "    texts += [text]\n",
    "    ans += [line + f',{p_pos},{p_neg},{p_nei}']\n",
    "\n",
    "pr_proba = pipe.predict_proba(texts)\n",
    "\n",
    "i = 1\n",
    "for proba in pr_proba:\n",
    "    p_com = proba[0]\n",
    "    p_qua = proba[2]\n",
    "    p_pri = proba[1]\n",
    "    p_saf = proba[3]\n",
    "    ans[i] = ans[i] + f',{p_com},{p_qua},{p_pri},{p_saf}'\n",
    "    i += 1\n",
    "\n",
    "with open('test.csv', 'w', encoding='utf-8') as f:\n",
    "    for line in ans:\n",
    "        f.write(line + '\\n')"
   ]
  },
  {
   "cell_type": "code",
   "execution_count": null,
   "id": "6c6f7a98",
   "metadata": {},
   "outputs": [],
   "source": []
  }
 ],
 "metadata": {
  "kernelspec": {
   "display_name": "Python 3 (ipykernel)",
   "language": "python",
   "name": "python3"
  },
  "language_info": {
   "codemirror_mode": {
    "name": "ipython",
    "version": 3
   },
   "file_extension": ".py",
   "mimetype": "text/x-python",
   "name": "python",
   "nbconvert_exporter": "python",
   "pygments_lexer": "ipython3",
   "version": "3.10.9"
  }
 },
 "nbformat": 4,
 "nbformat_minor": 5
}
